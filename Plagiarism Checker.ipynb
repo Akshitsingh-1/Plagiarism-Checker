{
 "cells": [
  {
   "cell_type": "code",
   "execution_count": 1,
   "id": "4ef665de",
   "metadata": {},
   "outputs": [],
   "source": [
    "# We will put multiple file in a folder and we will check their similarity that is plagiarism"
   ]
  },
  {
   "cell_type": "code",
   "execution_count": 2,
   "id": "6557b2e8",
   "metadata": {},
   "outputs": [],
   "source": [
    "import os\n",
    "# os module provide functionality such that we can easily interact with operating system"
   ]
  },
  {
   "cell_type": "code",
   "execution_count": 3,
   "id": "377ef687",
   "metadata": {},
   "outputs": [],
   "source": [
    "from sklearn.feature_extraction.text import TfidfVectorizer\n",
    "# TfidfVectorizer transform text to feature vector which can be used as input to estimator\n",
    "# that is text -> numerical"
   ]
  },
  {
   "cell_type": "code",
   "execution_count": 4,
   "id": "abdd4779",
   "metadata": {},
   "outputs": [],
   "source": [
    "from sklearn.metrics.pairwise import cosine_similarity\n",
    "# tells similarity in files we will use cosine similarity, how much 2 fils are same"
   ]
  },
  {
   "cell_type": "code",
   "execution_count": 5,
   "id": "54ad376f",
   "metadata": {},
   "outputs": [],
   "source": [
    "student_files = [doc for doc in os.listdir() if doc.endswith('.txt')]\n",
    "# to store names of all files, listdir() return list of names of files in the directory"
   ]
  },
  {
   "cell_type": "code",
   "execution_count": 6,
   "id": "728ea9be",
   "metadata": {},
   "outputs": [
    {
     "data": {
      "text/plain": [
       "['fatma.txt', 'john.txt', 'juma.txt', 'requirements.txt']"
      ]
     },
     "execution_count": 6,
     "metadata": {},
     "output_type": "execute_result"
    }
   ],
   "source": [
    "student_files"
   ]
  },
  {
   "cell_type": "code",
   "execution_count": 7,
   "id": "cfa0b3e5",
   "metadata": {},
   "outputs": [],
   "source": [
    "student_notes = [open(_file,encoding='utf-8').read() for _file in student_files]\n",
    "# to retrieving their data"
   ]
  },
  {
   "cell_type": "code",
   "execution_count": 8,
   "id": "833313a3",
   "metadata": {},
   "outputs": [
    {
     "data": {
      "text/plain": [
       "['Life is all about doing your best in trying to\\nfind whatworks out for you ans taking most time in\\ntrying to pursue those skills',\n",
       " 'life is all about finding money and spending on luxury stuffs\\nCoz this life is kinda short , trust',\n",
       " 'Life to me is about finding money and use it on things that makes you happy\\ncoz this life is kinda short',\n",
       " 'scikit_learn==0.24.2\\n']"
      ]
     },
     "execution_count": 8,
     "metadata": {},
     "output_type": "execute_result"
    }
   ],
   "source": [
    "student_notes"
   ]
  },
  {
   "cell_type": "code",
   "execution_count": 9,
   "id": "478eb829",
   "metadata": {},
   "outputs": [],
   "source": [
    "# to transform text to vectors\n",
    "def vectorize(text):\n",
    "    return TfidfVectorizer().fit_transform(text).toarray() #return in array"
   ]
  },
  {
   "cell_type": "code",
   "execution_count": 10,
   "id": "73360700",
   "metadata": {},
   "outputs": [],
   "source": [
    "# returns similarity\n",
    "def similarity(doc1,doc2):\n",
    "    return cosine_similarity([doc1,doc2])"
   ]
  },
  {
   "cell_type": "code",
   "execution_count": 11,
   "id": "6358ab37",
   "metadata": {},
   "outputs": [],
   "source": [
    "vectors = vectorize(student_notes)\n",
    "#result will be in form of arrays and will be stored in arrays"
   ]
  },
  {
   "cell_type": "code",
   "execution_count": 12,
   "id": "6b41dd94",
   "metadata": {},
   "outputs": [
    {
     "data": {
      "text/plain": [
       "array([[0.        , 0.12294822, 0.15186551, 0.        , 0.19262215,\n",
       "        0.19262215, 0.        , 0.19262215, 0.19262215, 0.        ,\n",
       "        0.19262215, 0.        , 0.38524429, 0.12294822, 0.        ,\n",
       "        0.        , 0.12294822, 0.        , 0.        , 0.        ,\n",
       "        0.        , 0.19262215, 0.        , 0.19262215, 0.19262215,\n",
       "        0.        , 0.        , 0.19262215, 0.        , 0.        ,\n",
       "        0.19262215, 0.        , 0.        , 0.        , 0.19262215,\n",
       "        0.19262215, 0.30373102, 0.        , 0.38524429, 0.        ,\n",
       "        0.19262215, 0.15186551, 0.19262215],\n",
       "       [0.        , 0.17527802, 0.21650322, 0.21650322, 0.        ,\n",
       "        0.        , 0.21650322, 0.        , 0.        , 0.21650322,\n",
       "        0.        , 0.        , 0.        , 0.35055603, 0.        ,\n",
       "        0.21650322, 0.35055603, 0.27460688, 0.        , 0.        ,\n",
       "        0.21650322, 0.        , 0.21650322, 0.        , 0.        ,\n",
       "        0.        , 0.21650322, 0.        , 0.27460688, 0.27460688,\n",
       "        0.        , 0.        , 0.        , 0.21650322, 0.        ,\n",
       "        0.        , 0.        , 0.27460688, 0.        , 0.        ,\n",
       "        0.        , 0.        , 0.        ],\n",
       "       [0.        , 0.15534458, 0.        , 0.19188146, 0.        ,\n",
       "        0.        , 0.19188146, 0.        , 0.        , 0.19188146,\n",
       "        0.        , 0.24337731, 0.        , 0.31068916, 0.24337731,\n",
       "        0.19188146, 0.31068916, 0.        , 0.24337731, 0.24337731,\n",
       "        0.19188146, 0.        , 0.19188146, 0.        , 0.        ,\n",
       "        0.        , 0.19188146, 0.        , 0.        , 0.        ,\n",
       "        0.        , 0.24337731, 0.24337731, 0.19188146, 0.        ,\n",
       "        0.        , 0.19188146, 0.        , 0.        , 0.24337731,\n",
       "        0.        , 0.19188146, 0.        ],\n",
       "       [0.70710678, 0.        , 0.        , 0.        , 0.        ,\n",
       "        0.        , 0.        , 0.        , 0.        , 0.        ,\n",
       "        0.        , 0.        , 0.        , 0.        , 0.        ,\n",
       "        0.        , 0.        , 0.        , 0.        , 0.        ,\n",
       "        0.        , 0.        , 0.        , 0.        , 0.        ,\n",
       "        0.70710678, 0.        , 0.        , 0.        , 0.        ,\n",
       "        0.        , 0.        , 0.        , 0.        , 0.        ,\n",
       "        0.        , 0.        , 0.        , 0.        , 0.        ,\n",
       "        0.        , 0.        , 0.        ]])"
      ]
     },
     "execution_count": 12,
     "metadata": {},
     "output_type": "execute_result"
    }
   ],
   "source": [
    "vectors"
   ]
  },
  {
   "cell_type": "code",
   "execution_count": 13,
   "id": "b401047d",
   "metadata": {},
   "outputs": [],
   "source": [
    "# zip data and store it\n",
    "s_vectors = list(zip(student_files,vectors))"
   ]
  },
  {
   "cell_type": "code",
   "execution_count": 14,
   "id": "e0be2dfb",
   "metadata": {},
   "outputs": [
    {
     "data": {
      "text/plain": [
       "[('fatma.txt',\n",
       "  array([0.        , 0.12294822, 0.15186551, 0.        , 0.19262215,\n",
       "         0.19262215, 0.        , 0.19262215, 0.19262215, 0.        ,\n",
       "         0.19262215, 0.        , 0.38524429, 0.12294822, 0.        ,\n",
       "         0.        , 0.12294822, 0.        , 0.        , 0.        ,\n",
       "         0.        , 0.19262215, 0.        , 0.19262215, 0.19262215,\n",
       "         0.        , 0.        , 0.19262215, 0.        , 0.        ,\n",
       "         0.19262215, 0.        , 0.        , 0.        , 0.19262215,\n",
       "         0.19262215, 0.30373102, 0.        , 0.38524429, 0.        ,\n",
       "         0.19262215, 0.15186551, 0.19262215])),\n",
       " ('john.txt',\n",
       "  array([0.        , 0.17527802, 0.21650322, 0.21650322, 0.        ,\n",
       "         0.        , 0.21650322, 0.        , 0.        , 0.21650322,\n",
       "         0.        , 0.        , 0.        , 0.35055603, 0.        ,\n",
       "         0.21650322, 0.35055603, 0.27460688, 0.        , 0.        ,\n",
       "         0.21650322, 0.        , 0.21650322, 0.        , 0.        ,\n",
       "         0.        , 0.21650322, 0.        , 0.27460688, 0.27460688,\n",
       "         0.        , 0.        , 0.        , 0.21650322, 0.        ,\n",
       "         0.        , 0.        , 0.27460688, 0.        , 0.        ,\n",
       "         0.        , 0.        , 0.        ])),\n",
       " ('juma.txt',\n",
       "  array([0.        , 0.15534458, 0.        , 0.19188146, 0.        ,\n",
       "         0.        , 0.19188146, 0.        , 0.        , 0.19188146,\n",
       "         0.        , 0.24337731, 0.        , 0.31068916, 0.24337731,\n",
       "         0.19188146, 0.31068916, 0.        , 0.24337731, 0.24337731,\n",
       "         0.19188146, 0.        , 0.19188146, 0.        , 0.        ,\n",
       "         0.        , 0.19188146, 0.        , 0.        , 0.        ,\n",
       "         0.        , 0.24337731, 0.24337731, 0.19188146, 0.        ,\n",
       "         0.        , 0.19188146, 0.        , 0.        , 0.24337731,\n",
       "         0.        , 0.19188146, 0.        ])),\n",
       " ('requirements.txt',\n",
       "  array([0.70710678, 0.        , 0.        , 0.        , 0.        ,\n",
       "         0.        , 0.        , 0.        , 0.        , 0.        ,\n",
       "         0.        , 0.        , 0.        , 0.        , 0.        ,\n",
       "         0.        , 0.        , 0.        , 0.        , 0.        ,\n",
       "         0.        , 0.        , 0.        , 0.        , 0.        ,\n",
       "         0.70710678, 0.        , 0.        , 0.        , 0.        ,\n",
       "         0.        , 0.        , 0.        , 0.        , 0.        ,\n",
       "         0.        , 0.        , 0.        , 0.        , 0.        ,\n",
       "         0.        , 0.        , 0.        ]))]"
      ]
     },
     "execution_count": 14,
     "metadata": {},
     "output_type": "execute_result"
    }
   ],
   "source": [
    "s_vectors"
   ]
  },
  {
   "cell_type": "code",
   "execution_count": 15,
   "id": "6883c6f5",
   "metadata": {},
   "outputs": [],
   "source": [
    "plagiarism_results = set()\n",
    "#used to store result"
   ]
  },
  {
   "cell_type": "code",
   "execution_count": 16,
   "id": "3f1cb354",
   "metadata": {},
   "outputs": [],
   "source": [
    "#funtion to check plagiarism\n",
    "def check_plagiarism():\n",
    "    global s_vector                                   #globalize data present\n",
    "    for student_a,text_vector_a in s_vectors:         # s_vectors has name and data\n",
    "        new_vectors=s_vectors.copy()   \n",
    "        current_index=new_vectors.index((student_a,text_vector_a))\n",
    "        print(current_index)\n",
    "        del new_vectors[current_index]                # to delete current index\n",
    "        for student_b,text_vector_b in new_vectors:   # to compare one file with other 2\n",
    "            sim_score=similarity(text_vector_a,text_vector_b)[0][1]\n",
    "            print(similarity(text_vector_a,text_vector_b)[0][1])\n",
    "            student_pair=sorted((student_a,student_b))         #storing name of files whose data is being compared\n",
    "            #print(similarity(text_vector_a,text_vector_b))\n",
    "            #print(student_pair)\n",
    "            score=(student_pair[0],student_pair[1],sim_score)  #file name withsimilarity score\n",
    "            plagiarism_results.add(score)\n",
    "    return plagiarism_results"
   ]
  },
  {
   "cell_type": "code",
   "execution_count": 17,
   "id": "72d5e34f",
   "metadata": {},
   "outputs": [
    {
     "name": "stdout",
     "output_type": "stream",
     "text": [
      "0\n",
      "0.14062997281577044\n",
      "0.18291722931500526\n",
      "0.0\n",
      "1\n",
      "0.14062997281577044\n",
      "0.5774000463561865\n",
      "0.0\n",
      "2\n",
      "0.18291722931500526\n",
      "0.5774000463561865\n",
      "0.0\n",
      "3\n",
      "0.0\n",
      "0.0\n",
      "0.0\n",
      "('juma.txt', 'requirements.txt', 0.0)\n",
      "('fatma.txt', 'john.txt', 0.14062997281577044)\n",
      "('john.txt', 'requirements.txt', 0.0)\n",
      "('fatma.txt', 'juma.txt', 0.18291722931500526)\n",
      "('fatma.txt', 'requirements.txt', 0.0)\n",
      "('john.txt', 'juma.txt', 0.5774000463561865)\n"
     ]
    }
   ],
   "source": [
    "for data in check_plagiarism():\n",
    "    print(data)"
   ]
  },
  {
   "cell_type": "code",
   "execution_count": null,
   "id": "7c9460c2",
   "metadata": {},
   "outputs": [],
   "source": []
  }
 ],
 "metadata": {
  "kernelspec": {
   "display_name": "Python 3 (ipykernel)",
   "language": "python",
   "name": "python3"
  },
  "language_info": {
   "codemirror_mode": {
    "name": "ipython",
    "version": 3
   },
   "file_extension": ".py",
   "mimetype": "text/x-python",
   "name": "python",
   "nbconvert_exporter": "python",
   "pygments_lexer": "ipython3",
   "version": "3.9.12"
  }
 },
 "nbformat": 4,
 "nbformat_minor": 5
}
